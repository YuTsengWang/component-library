{
 "cells": [
  {
   "cell_type": "markdown",
   "id": "brutal-catch",
   "metadata": {},
   "source": [
    "# Assesses metrics of an asset and decides on readyness for production deployment\n",
    "Assesses metrics of an asset (ML model, dashboard, report, ...) and decides on readyness for production deployment. \n",
    "\n",
    "Currently, this is only a placeholder notebook which need to be extended. In the near future we are planning to come up with a baseline implementation which works for the average cases\n"
   ]
  },
  {
   "cell_type": "code",
   "execution_count": null,
   "id": "gentle-memorabilia",
   "metadata": {},
   "outputs": [],
   "source": [
    "# @returns result.txt containing TRUE/FALSE in the 1st line\n",
    "# and additional information\n",
    "# on the decision made in plain text in the subsequent lines"
   ]
  },
  {
   "cell_type": "code",
   "execution_count": null,
   "id": "undefined-leave",
   "metadata": {},
   "outputs": [],
   "source": [
    "# Your implmementation here\n",
    "print('not yet implemented')"
   ]
  }
 ],
 "metadata": {
  "kernelspec": {
   "display_name": "Python 3",
   "language": "python",
   "name": "python3"
  },
  "language_info": {
   "codemirror_mode": {
    "name": "ipython",
    "version": 3
   },
   "file_extension": ".py",
   "mimetype": "text/x-python",
   "name": "python",
   "nbconvert_exporter": "python",
   "pygments_lexer": "ipython3",
   "version": "3.8.6"
  }
 },
 "nbformat": 4,
 "nbformat_minor": 5
}
