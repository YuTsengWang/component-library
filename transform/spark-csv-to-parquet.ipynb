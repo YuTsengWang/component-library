{
 "cells": [
  {
   "cell_type": "markdown",
   "id": "binding-delta",
   "metadata": {
    "papermill": {
     "duration": 0.016304,
     "end_time": "2021-03-22T20:29:23.476444",
     "exception": false,
     "start_time": "2021-03-22T20:29:23.460140",
     "status": "completed"
    },
    "tags": []
   },
   "source": [
    "# Converts a CSV file with header to parquet using ApacheSpark"
   ]
  },
  {
   "cell_type": "code",
   "execution_count": 1,
   "id": "satellite-vegetation",
   "metadata": {
    "execution": {
     "iopub.execute_input": "2021-03-22T20:29:23.509253Z",
     "iopub.status.busy": "2021-03-22T20:29:23.503874Z",
     "iopub.status.idle": "2021-03-22T20:29:25.734135Z",
     "shell.execute_reply": "2021-03-22T20:29:25.731300Z"
    },
    "papermill": {
     "duration": 2.246299,
     "end_time": "2021-03-22T20:29:25.734626",
     "exception": false,
     "start_time": "2021-03-22T20:29:23.488327",
     "status": "completed"
    },
    "tags": []
   },
   "outputs": [
    {
     "name": "stdout",
     "output_type": "stream",
     "text": [
      "Requirement already satisfied: pyspark==3.1.1 in /opt/conda/lib/python3.8/site-packages (3.1.1)\n",
      "Requirement already satisfied: py4j==0.10.9 in /opt/conda/lib/python3.8/site-packages (from pyspark==3.1.1) (0.10.9)\n"
     ]
    }
   ],
   "source": [
    "!pip3 install pyspark==3.1.1"
   ]
  },
  {
   "cell_type": "code",
   "execution_count": 2,
   "id": "norman-memory",
   "metadata": {
    "execution": {
     "iopub.execute_input": "2021-03-22T20:29:25.771894Z",
     "iopub.status.busy": "2021-03-22T20:29:25.771056Z",
     "iopub.status.idle": "2021-03-22T20:29:25.775945Z",
     "shell.execute_reply": "2021-03-22T20:29:25.775062Z"
    },
    "papermill": {
     "duration": 0.023625,
     "end_time": "2021-03-22T20:29:25.776130",
     "exception": false,
     "start_time": "2021-03-22T20:29:25.752505",
     "status": "completed"
    },
    "tags": []
   },
   "outputs": [],
   "source": [
    "# @param data_dir temporal data storage for local execution\n",
    "# @param data_csv csv path and file name (default: data.csv)\n",
    "# @param data_parquet path and parquet file name (default: data.parquet)\n",
    "# @param master url of master (default: local mode)"
   ]
  },
  {
   "cell_type": "code",
   "execution_count": 3,
   "id": "beginning-wisdom",
   "metadata": {
    "execution": {
     "iopub.execute_input": "2021-03-22T20:29:25.801696Z",
     "iopub.status.busy": "2021-03-22T20:29:25.801036Z",
     "iopub.status.idle": "2021-03-22T20:29:25.951415Z",
     "shell.execute_reply": "2021-03-22T20:29:25.950975Z"
    },
    "papermill": {
     "duration": 0.164002,
     "end_time": "2021-03-22T20:29:25.951504",
     "exception": false,
     "start_time": "2021-03-22T20:29:25.787502",
     "status": "completed"
    },
    "tags": []
   },
   "outputs": [],
   "source": [
    "from pyspark import SparkContext, SparkConf\n",
    "from pyspark.sql import SparkSession\n",
    "import os"
   ]
  },
  {
   "cell_type": "code",
   "execution_count": 4,
   "id": "abstract-cambridge",
   "metadata": {
    "execution": {
     "iopub.execute_input": "2021-03-22T20:29:25.970265Z",
     "iopub.status.busy": "2021-03-22T20:29:25.969829Z",
     "iopub.status.idle": "2021-03-22T20:29:25.972369Z",
     "shell.execute_reply": "2021-03-22T20:29:25.971893Z"
    },
    "papermill": {
     "duration": 0.012801,
     "end_time": "2021-03-22T20:29:25.972462",
     "exception": false,
     "start_time": "2021-03-22T20:29:25.959661",
     "status": "completed"
    },
    "tags": []
   },
   "outputs": [],
   "source": [
    "data_csv = os.environ.get('data_csv', 'data.csv')\n",
    "data_parquet = os.environ.get('data_parquet', 'data.parquet')\n",
    "master = os.environ.get('master', \"local[*]\")\n",
    "data_dir = os.environ.get('data_dir', '../../data/')"
   ]
  },
  {
   "cell_type": "code",
   "execution_count": 5,
   "id": "spatial-premiere",
   "metadata": {
    "execution": {
     "iopub.execute_input": "2021-03-22T20:29:25.987896Z",
     "iopub.status.busy": "2021-03-22T20:29:25.987380Z",
     "iopub.status.idle": "2021-03-22T20:29:25.990892Z",
     "shell.execute_reply": "2021-03-22T20:29:25.991248Z"
    },
    "papermill": {
     "duration": 0.013595,
     "end_time": "2021-03-22T20:29:25.991349",
     "exception": false,
     "start_time": "2021-03-22T20:29:25.977754",
     "status": "completed"
    },
    "tags": []
   },
   "outputs": [],
   "source": [
    "skip = False\n",
    "\n",
    "if os.path.exists(data_dir + data_parquet):\n",
    "    skip = True"
   ]
  },
  {
   "cell_type": "code",
   "execution_count": 6,
   "id": "welsh-grave",
   "metadata": {
    "execution": {
     "iopub.execute_input": "2021-03-22T20:29:26.010378Z",
     "iopub.status.busy": "2021-03-22T20:29:26.009868Z",
     "iopub.status.idle": "2021-03-22T20:29:30.176207Z",
     "shell.execute_reply": "2021-03-22T20:29:30.175771Z"
    },
    "papermill": {
     "duration": 4.178678,
     "end_time": "2021-03-22T20:29:30.176328",
     "exception": false,
     "start_time": "2021-03-22T20:29:25.997650",
     "status": "completed"
    },
    "tags": []
   },
   "outputs": [],
   "source": [
    "if not skip:\n",
    "    sc = SparkContext.getOrCreate(SparkConf().setMaster(master))\n",
    "    spark = SparkSession.builder.getOrCreate()"
   ]
  },
  {
   "cell_type": "code",
   "execution_count": 7,
   "id": "adjacent-yemen",
   "metadata": {
    "execution": {
     "iopub.execute_input": "2021-03-22T20:29:30.194880Z",
     "iopub.status.busy": "2021-03-22T20:29:30.194453Z",
     "iopub.status.idle": "2021-03-22T20:29:34.875133Z",
     "shell.execute_reply": "2021-03-22T20:29:34.874424Z"
    },
    "papermill": {
     "duration": 4.693188,
     "end_time": "2021-03-22T20:29:34.875295",
     "exception": false,
     "start_time": "2021-03-22T20:29:30.182107",
     "status": "completed"
    },
    "tags": []
   },
   "outputs": [],
   "source": [
    "if not skip:\n",
    "    df = spark.read.option('header', 'true').csv(data_dir + data_csv)"
   ]
  },
  {
   "cell_type": "code",
   "execution_count": 8,
   "id": "metropolitan-issue",
   "metadata": {
    "execution": {
     "iopub.execute_input": "2021-03-22T20:29:34.898749Z",
     "iopub.status.busy": "2021-03-22T20:29:34.897547Z",
     "iopub.status.idle": "2021-03-22T20:37:13.149966Z",
     "shell.execute_reply": "2021-03-22T20:37:13.149385Z"
    },
    "papermill": {
     "duration": 458.264571,
     "end_time": "2021-03-22T20:37:13.150144",
     "exception": false,
     "start_time": "2021-03-22T20:29:34.885573",
     "status": "completed"
    },
    "tags": []
   },
   "outputs": [],
   "source": [
    "if not skip:\n",
    "    df.write.parquet(data_dir + data_parquet)"
   ]
  }
 ],
 "metadata": {
  "kernelspec": {
   "display_name": "Python 3",
   "language": "python",
   "name": "python3"
  },
  "language_info": {
   "codemirror_mode": {
    "name": "ipython",
    "version": 3
   },
   "file_extension": ".py",
   "mimetype": "text/x-python",
   "name": "python",
   "nbconvert_exporter": "python",
   "pygments_lexer": "ipython3",
   "version": "3.8.6"
  },
  "papermill": {
   "default_parameters": {},
   "duration": 470.538548,
   "end_time": "2021-03-22T20:37:13.369954",
   "environment_variables": {},
   "exception": null,
   "input_path": "/home/jovyan/work/examples/pipelines/pairs/component-library/transform/spark-csv-to-parquet.ipynb",
   "output_path": "/home/jovyan/work/examples/pipelines/pairs/component-library/transform/spark-csv-to-parquet.ipynb",
   "parameters": {},
   "start_time": "2021-03-22T20:29:22.831406",
   "version": "2.3.3"
  }
 },
 "nbformat": 4,
 "nbformat_minor": 5
}
